{
 "cells": [
  {
   "cell_type": "markdown",
   "metadata": {},
   "source": [
    "### Dot Product\n",
    "Let $x \\in \\mathbb{R}^{n \\times 1}$,\n",
    "and $y \\in \\mathbb{R}^{n \\times 1}$\n",
    "with $n \\in \\mathbb{N}^+$ elements each,\n",
    "the dot product $z \\in\\mathbb{R}$ is\n",
    "\n",
    "$$\n",
    "z = x^T y\n",
    "$$"
   ]
  },
  {
   "cell_type": "markdown",
   "metadata": {},
   "source": [
    "### Implementation in C"
   ]
  },
  {
   "cell_type": "code",
   "execution_count": 1,
   "metadata": {
    "ExecuteTime": {
     "end_time": "2018-09-03T13:28:09.037473Z",
     "start_time": "2018-09-03T13:28:08.909790Z"
    }
   },
   "outputs": [
    {
     "name": "stdout",
     "output_type": "stream",
     "text": [
      "40.0\n"
     ]
    }
   ],
   "source": [
    "#include <stdio.h>  //printf\n",
    "#include <stddef.h> //size_t\n",
    "\n",
    "double multiply_dot(const double* x, const double* y, size_t n){\n",
    "    size_t i;\n",
    "    double z = 0.0;\n",
    "    for(i=0; i<n; i++){\n",
    "        z += x[i] * y[i];\n",
    "    }\n",
    "    return z;\n",
    "}\n",
    "\n",
    "int main()\n",
    "{\n",
    "    size_t n = 4;\n",
    "    double x[] = {1,2,3,4};\n",
    "    double y[] = {2,3,4,5};\n",
    "    double z = multiply_dot(x,y,n);\n",
    "    printf(\"%.1f\\n\", z);\n",
    "}"
   ]
  }
 ],
 "metadata": {
  "kernelspec": {
   "display_name": "C",
   "language": "c",
   "name": "c"
  },
  "language_info": {
   "file_extension": ".c",
   "mimetype": "text/plain",
   "name": "c"
  },
  "toc": {
   "base_numbering": 1,
   "nav_menu": {},
   "number_sections": true,
   "sideBar": true,
   "skip_h1_title": false,
   "title_cell": "Table of Contents",
   "title_sidebar": "Contents",
   "toc_cell": false,
   "toc_position": {},
   "toc_section_display": true,
   "toc_window_display": false
  },
  "varInspector": {
   "cols": {
    "lenName": 16,
    "lenType": 16,
    "lenVar": 40
   },
   "kernels_config": {
    "python": {
     "delete_cmd_postfix": "",
     "delete_cmd_prefix": "del ",
     "library": "var_list.py",
     "varRefreshCmd": "print(var_dic_list())"
    },
    "r": {
     "delete_cmd_postfix": ") ",
     "delete_cmd_prefix": "rm(",
     "library": "var_list.r",
     "varRefreshCmd": "cat(var_dic_list()) "
    }
   },
   "types_to_exclude": [
    "module",
    "function",
    "builtin_function_or_method",
    "instance",
    "_Feature"
   ],
   "window_display": false
  }
 },
 "nbformat": 4,
 "nbformat_minor": 2
}
